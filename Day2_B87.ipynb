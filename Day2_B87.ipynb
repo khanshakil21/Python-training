{
 "cells": [
  {
   "cell_type": "code",
   "execution_count": null,
   "id": "1fe57f07-0eb6-40aa-8d01-d0e98c8a773f",
   "metadata": {},
   "outputs": [],
   "source": [
    "first name =\"Shakil\""
   ]
  },
  {
   "cell_type": "code",
   "execution_count": 2,
   "id": "3483f33f-74c6-4f9b-a979-3f37495eaec3",
   "metadata": {},
   "outputs": [
    {
     "ename": "SyntaxError",
     "evalue": "invalid syntax. Perhaps you forgot a comma? (3852772612.py, line 1)",
     "output_type": "error",
     "traceback": [
      "\u001b[1;36m  Cell \u001b[1;32mIn[2], line 1\u001b[1;36m\u001b[0m\n\u001b[1;33m    print(first name)\u001b[0m\n\u001b[1;37m          ^\u001b[0m\n\u001b[1;31mSyntaxError\u001b[0m\u001b[1;31m:\u001b[0m invalid syntax. Perhaps you forgot a comma?\n"
     ]
    }
   ],
   "source": [
    "print(first name)"
   ]
  },
  {
   "cell_type": "code",
   "execution_count": 3,
   "id": "29e1cbcd-5f67-44ce-b778-a6531f8ed8ea",
   "metadata": {},
   "outputs": [
    {
     "name": "stdout",
     "output_type": "stream",
     "text": [
      "Shakil\n"
     ]
    }
   ],
   "source": [
    "firstName=\"Shakil\"\n",
    "print(firstName)"
   ]
  },
  {
   "cell_type": "code",
   "execution_count": 4,
   "id": "76cdcb1d-53f5-4caa-8d0f-ad351412fa77",
   "metadata": {},
   "outputs": [
    {
     "ename": "SyntaxError",
     "evalue": "invalid decimal literal (666950305.py, line 1)",
     "output_type": "error",
     "traceback": [
      "\u001b[1;36m  Cell \u001b[1;32mIn[4], line 1\u001b[1;36m\u001b[0m\n\u001b[1;33m    1Name=\"Khan\"\u001b[0m\n\u001b[1;37m    ^\u001b[0m\n\u001b[1;31mSyntaxError\u001b[0m\u001b[1;31m:\u001b[0m invalid decimal literal\n"
     ]
    }
   ],
   "source": [
    "1Name=\"Khan\"\n",
    "print(1Name)"
   ]
  },
  {
   "cell_type": "code",
   "execution_count": 5,
   "id": "7de7d9b3-aa86-4130-a127-fa02119037bc",
   "metadata": {},
   "outputs": [
    {
     "name": "stdout",
     "output_type": "stream",
     "text": [
      "Khan\n"
     ]
    }
   ],
   "source": [
    "name1=\"Khan\"\n",
    "print(name1)"
   ]
  },
  {
   "cell_type": "code",
   "execution_count": 6,
   "id": "6766a5d8-b0b4-45a0-8aa8-d70d3b254e6e",
   "metadata": {},
   "outputs": [
    {
     "ename": "SyntaxError",
     "evalue": "cannot assign to expression here. Maybe you meant '==' instead of '='? (2002142003.py, line 1)",
     "output_type": "error",
     "traceback": [
      "\u001b[1;36m  Cell \u001b[1;32mIn[6], line 1\u001b[1;36m\u001b[0m\n\u001b[1;33m    first&LastName=\"Shakil Khan\"\u001b[0m\n\u001b[1;37m    ^\u001b[0m\n\u001b[1;31mSyntaxError\u001b[0m\u001b[1;31m:\u001b[0m cannot assign to expression here. Maybe you meant '==' instead of '='?\n"
     ]
    }
   ],
   "source": [
    "first&LastName=\"Shakil Khan\""
   ]
  },
  {
   "cell_type": "code",
   "execution_count": 7,
   "id": "b21f596f-fe0d-4ee5-bab8-0a5aac23b03c",
   "metadata": {},
   "outputs": [],
   "source": [
    "firstLastName=\"Shakil Khan\""
   ]
  },
  {
   "cell_type": "code",
   "execution_count": 8,
   "id": "74545bd7-05a2-4775-b9d9-62e4092b8248",
   "metadata": {},
   "outputs": [],
   "source": [
    "name =\"Shakil\""
   ]
  },
  {
   "cell_type": "code",
   "execution_count": 9,
   "id": "e46b7577-f715-4f7d-9e7e-4b3c51628eae",
   "metadata": {},
   "outputs": [
    {
     "name": "stdout",
     "output_type": "stream",
     "text": [
      "Shakil\n"
     ]
    }
   ],
   "source": [
    "print(name)"
   ]
  },
  {
   "cell_type": "code",
   "execution_count": 10,
   "id": "b96d5123-51b9-41c3-adb3-e45944878109",
   "metadata": {},
   "outputs": [
    {
     "name": "stdout",
     "output_type": "stream",
     "text": [
      "Shakil\n"
     ]
    }
   ],
   "source": [
    "name='Shakil'\n",
    "print(name)"
   ]
  },
  {
   "cell_type": "code",
   "execution_count": null,
   "id": "1b6da68f-6b7c-4864-b8dc-bcad4e5ea747",
   "metadata": {},
   "outputs": [],
   "source": []
  }
 ],
 "metadata": {
  "kernelspec": {
   "display_name": "Python 3 (ipykernel)",
   "language": "python",
   "name": "python3"
  },
  "language_info": {
   "codemirror_mode": {
    "name": "ipython",
    "version": 3
   },
   "file_extension": ".py",
   "mimetype": "text/x-python",
   "name": "python",
   "nbconvert_exporter": "python",
   "pygments_lexer": "ipython3",
   "version": "3.11.7"
  }
 },
 "nbformat": 4,
 "nbformat_minor": 5
}
